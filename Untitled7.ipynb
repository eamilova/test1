{
  "nbformat": 4,
  "nbformat_minor": 0,
  "metadata": {
    "colab": {
      "name": "Untitled7.ipynb",
      "provenance": [],
      "collapsed_sections": [],
      "authorship_tag": "ABX9TyNO9zt9jpxh5BBmywm9LIjm",
      "include_colab_link": true
    },
    "kernelspec": {
      "name": "python3",
      "display_name": "Python 3"
    }
  },
  "cells": [
    {
      "cell_type": "markdown",
      "metadata": {
        "id": "view-in-github",
        "colab_type": "text"
      },
      "source": [
        "<a href=\"https://colab.research.google.com/github/eamilova/test1/blob/master/Untitled7.ipynb\" target=\"_parent\"><img src=\"https://colab.research.google.com/assets/colab-badge.svg\" alt=\"Open In Colab\"/></a>"
      ]
    },
    {
      "cell_type": "code",
      "metadata": {
        "colab": {
          "base_uri": "https://localhost:8080/",
          "height": 0
        },
        "id": "4u-DsOsIUVq6",
        "outputId": "8874d34d-6056-44f6-f1c6-d6efe747edb2"
      },
      "source": [
        "#https://gspread.readthedocs.io/en/latest/api.html?highlight=DataFrame.from_records#models\r\n",
        "from google.colab import auth\r\n",
        "auth.authenticate_user()\r\n",
        "!pip install --upgrade gspread\r\n",
        "import gspread\r\n",
        "from google.colab import drive\r\n",
        "drive.mount('/content/drive')\r\n",
        "import os\r\n",
        "print(os.getcwd())\r\n",
        "print(os.listdir('./'))\r\n",
        "print(os.listdir('/content/drive'))\r\n",
        "print(os.listdir('/content/drive/MyDrive/Colab Notebooks/table_test'))\r\n",
        "%ll -lF /content/drive/MyDrive/\"Colab Notebooks\"/table_test\r\n",
        "from oauth2client.client import GoogleCredentials\r\n",
        "gs = gspread.authorize(GoogleCredentials.get_application_default())\r\n",
        "!ln -fs /usr/share/zoneinfo/Europe/Moscow /etc/localtime\r\n",
        "!date\r\n",
        "print(\"Исполнитель: Милова Екатерина Андреевна, би2\")"
      ],
      "execution_count": 4,
      "outputs": [
        {
          "output_type": "stream",
          "text": [
            "Requirement already up-to-date: gspread in /usr/local/lib/python3.7/dist-packages (3.7.0)\n",
            "Requirement already satisfied, skipping upgrade: google-auth-oauthlib>=0.4.1 in /usr/local/lib/python3.7/dist-packages (from gspread) (0.4.2)\n",
            "Requirement already satisfied, skipping upgrade: google-auth>=1.12.0 in /usr/local/lib/python3.7/dist-packages (from gspread) (1.27.0)\n",
            "Requirement already satisfied, skipping upgrade: requests-oauthlib>=0.7.0 in /usr/local/lib/python3.7/dist-packages (from google-auth-oauthlib>=0.4.1->gspread) (1.3.0)\n",
            "Requirement already satisfied, skipping upgrade: cachetools<5.0,>=2.0.0 in /usr/local/lib/python3.7/dist-packages (from google-auth>=1.12.0->gspread) (4.2.1)\n",
            "Requirement already satisfied, skipping upgrade: rsa<5,>=3.1.4; python_version >= \"3.6\" in /usr/local/lib/python3.7/dist-packages (from google-auth>=1.12.0->gspread) (4.7.2)\n",
            "Requirement already satisfied, skipping upgrade: six>=1.9.0 in /usr/local/lib/python3.7/dist-packages (from google-auth>=1.12.0->gspread) (1.15.0)\n",
            "Requirement already satisfied, skipping upgrade: pyasn1-modules>=0.2.1 in /usr/local/lib/python3.7/dist-packages (from google-auth>=1.12.0->gspread) (0.2.8)\n",
            "Requirement already satisfied, skipping upgrade: setuptools>=40.3.0 in /usr/local/lib/python3.7/dist-packages (from google-auth>=1.12.0->gspread) (54.0.0)\n",
            "Requirement already satisfied, skipping upgrade: oauthlib>=3.0.0 in /usr/local/lib/python3.7/dist-packages (from requests-oauthlib>=0.7.0->google-auth-oauthlib>=0.4.1->gspread) (3.1.0)\n",
            "Requirement already satisfied, skipping upgrade: requests>=2.0.0 in /usr/local/lib/python3.7/dist-packages (from requests-oauthlib>=0.7.0->google-auth-oauthlib>=0.4.1->gspread) (2.23.0)\n",
            "Requirement already satisfied, skipping upgrade: pyasn1>=0.1.3 in /usr/local/lib/python3.7/dist-packages (from rsa<5,>=3.1.4; python_version >= \"3.6\"->google-auth>=1.12.0->gspread) (0.4.8)\n",
            "Requirement already satisfied, skipping upgrade: idna<3,>=2.5 in /usr/local/lib/python3.7/dist-packages (from requests>=2.0.0->requests-oauthlib>=0.7.0->google-auth-oauthlib>=0.4.1->gspread) (2.10)\n",
            "Requirement already satisfied, skipping upgrade: chardet<4,>=3.0.2 in /usr/local/lib/python3.7/dist-packages (from requests>=2.0.0->requests-oauthlib>=0.7.0->google-auth-oauthlib>=0.4.1->gspread) (3.0.4)\n",
            "Requirement already satisfied, skipping upgrade: urllib3!=1.25.0,!=1.25.1,<1.26,>=1.21.1 in /usr/local/lib/python3.7/dist-packages (from requests>=2.0.0->requests-oauthlib>=0.7.0->google-auth-oauthlib>=0.4.1->gspread) (1.24.3)\n",
            "Requirement already satisfied, skipping upgrade: certifi>=2017.4.17 in /usr/local/lib/python3.7/dist-packages (from requests>=2.0.0->requests-oauthlib>=0.7.0->google-auth-oauthlib>=0.4.1->gspread) (2020.12.5)\n",
            "Drive already mounted at /content/drive; to attempt to forcibly remount, call drive.mount(\"/content/drive\", force_remount=True).\n",
            "/content\n",
            "['.config', 'adc.json', 'drive', 'sample_data']\n",
            "['MyDrive', '.file-revisions-by-id', '.shortcut-targets-by-id', '.Trash']\n",
            "['test2.gsheet', 'table_01.gsheet']\n",
            "total 1\n",
            "-rw------- 1 root 151 Mar  3 20:55 table_01.gsheet\n",
            "-rw------- 1 root 151 Mar  3 20:54 test2.gsheet\n",
            "Wed Mar  3 21:27:47 MSK 2021\n",
            "Исполнитель: Милова Екатерина Андреевна, би2\n"
          ],
          "name": "stdout"
        }
      ]
    },
    {
      "cell_type": "code",
      "metadata": {
        "colab": {
          "base_uri": "https://localhost:8080/",
          "height": 0
        },
        "id": "ympC5lF_U63Z",
        "outputId": "eaa79619-b3b9-4f51-f0c6-264a65f69bbe"
      },
      "source": [
        "import os\r\n",
        "import time\r\n",
        "print('\\nРаботаем с таблицей')\r\n",
        "%ll -lAF /content/drive/MyDrive/\"Colab Notebooks\"/table_test/\r\n",
        "try:\r\n",
        "  os.stat('/content/drive/MyDrive/Colab Notebooks/table_test/test_01.gsheet')\r\n",
        "  table = gs.open_by_key('1p5qpE7nCGyOHr2ksJqN2cjtCh6gLSfUre_yJFoMHxnE')\r\n",
        "except Exception as mistake:\r\n",
        "    print('\\n',mistake)\r\n",
        "    print(\"Необходимо создать таблицу\\n\")\r\n",
        "    #%rm -r /content/drive/MyDrive/test_01.gsheet1\r\n",
        "    %ll -lAF /content/drive/MyDrive/\r\n",
        "    gs_01 = gs.create('test_01')\r\n",
        "    time.sleep(30)\r\n",
        "    %ll -lAF /content/drive/MyDrive/\r\n",
        "    print(gs_01)\r\n",
        "    print (gs_01.id)\r\n",
        "    print(dir(gs_01))\r\n",
        "    %ll -lAF /content/drive/MyDrive/\"Colab Notebooks\"/table_test\r\n",
        "    %mv  /content/drive/MyDrive/table_01.gsheet /content/drive/MyDrive/\"Colab Notebooks\"/table_test/\r\n",
        "    %ll -lAF /content/drive/MyDrive/\"Colab Notebooks\"/table_test/\r\n",
        "print(dir(table))"
      ],
      "execution_count": 6,
      "outputs": [
        {
          "output_type": "stream",
          "text": [
            "\n",
            "Работаем с таблицей\n",
            "total 1\n",
            "-rw------- 1 root 151 Mar  3 21:39 test_01.gsheet\n",
            "['__class__', '__delattr__', '__dict__', '__dir__', '__doc__', '__eq__', '__format__', '__ge__', '__getattribute__', '__gt__', '__hash__', '__init__', '__init_subclass__', '__iter__', '__le__', '__lt__', '__module__', '__ne__', '__new__', '__reduce__', '__reduce_ex__', '__repr__', '__setattr__', '__sizeof__', '__str__', '__subclasshook__', '__weakref__', '_properties', '_spreadsheets_get', '_spreadsheets_sheets_copy_to', 'add_worksheet', 'batch_update', 'client', 'del_worksheet', 'duplicate_sheet', 'fetch_sheet_metadata', 'get_worksheet', 'id', 'list_permissions', 'remove_permissions', 'reorder_worksheets', 'share', 'sheet1', 'title', 'updated', 'url', 'values_append', 'values_batch_get', 'values_batch_update', 'values_clear', 'values_get', 'values_update', 'worksheet', 'worksheets']\n"
          ],
          "name": "stdout"
        }
      ]
    },
    {
      "cell_type": "code",
      "metadata": {
        "colab": {
          "base_uri": "https://localhost:8080/",
          "height": 0
        },
        "id": "olmnOJXcZQkm",
        "outputId": "9b22c0df-fea3-4429-de7d-d86d280ade56"
      },
      "source": [
        "print('\\nРаботаем с листом')\r\n",
        "print(table.worksheets())\r\n",
        "#worksheet = table.worksheet('list1')\r\n",
        "#table.del_worksheet(worksheet)\r\n",
        "try:\r\n",
        "  worksheet = table.worksheet('list1')\r\n",
        "except Exception as mistake:\r\n",
        "    print('\\n',mistake)\r\n",
        "    print(\"Необходимо создать лист\\n\")\r\n",
        "    worksheet = table.add_worksheet(\"list1\",100,100)\r\n",
        "print(table.worksheets())\r\n",
        "print(dir(worksheet))\r\n",
        "rows = worksheet.get_all_values()\r\n",
        "print(rows)\r\n",
        "value_sh = [[141,211],[3,4],[5,6]]\r\n",
        "print(value_sh)\r\n",
        "cell_list = 'E59'\r\n",
        "print(cell_list)\r\n",
        "worksheet.update(cell_list, value_sh)\r\n",
        "print(worksheet.get_all_values())\r\n",
        "time.sleep(30)\r\n",
        "%ll -lAF /content/drive/MyDrive/\"Colab Notebooks\"/table_test/\r\n",
        "os.listdir('/content/drive/MyDrive/Colab Notebooks/table_test/')\r\n",
        "!date"
      ],
      "execution_count": 7,
      "outputs": [
        {
          "output_type": "stream",
          "text": [
            "\n",
            "Работаем с листом\n",
            "[<Worksheet 'Sheet1' id:0>, <Worksheet 'list1' id:1539061466>]\n",
            "[<Worksheet 'Sheet1' id:0>, <Worksheet 'list1' id:1539061466>]\n",
            "['__class__', '__delattr__', '__dict__', '__dir__', '__doc__', '__eq__', '__format__', '__ge__', '__getattribute__', '__gt__', '__hash__', '__init__', '__init_subclass__', '__le__', '__lt__', '__module__', '__ne__', '__new__', '__reduce__', '__reduce_ex__', '__repr__', '__setattr__', '__sizeof__', '__str__', '__subclasshook__', '__weakref__', '_finder', '_list_cells', '_properties', 'acell', 'add_cols', 'add_protected_range', 'add_rows', 'append_row', 'append_rows', 'batch_get', 'batch_update', 'cell', 'clear', 'clear_basic_filter', 'clear_note', 'client', 'col_count', 'col_values', 'copy_to', 'delete_columns', 'delete_dimension', 'delete_row', 'delete_rows', 'duplicate', 'export', 'find', 'findall', 'format', 'freeze', 'frozen_col_count', 'frozen_row_count', 'get', 'get_all_records', 'get_all_values', 'id', 'insert_cols', 'insert_note', 'insert_row', 'insert_rows', 'merge_cells', 'range', 'resize', 'row_count', 'row_values', 'set_basic_filter', 'sort', 'spreadsheet', 'title', 'update', 'update_acell', 'update_cell', 'update_cells', 'update_index', 'update_note', 'update_title', 'updated', 'url']\n",
            "[['141', '2', '', '', '', ''], ['3', '4', '', '', '', ''], ['5', '6', '', '', '', ''], ['', '', '', '', '', ''], ['', '', '141', '211', '', ''], ['', '', '3', '4', '', ''], ['', '', '5', '6', '', ''], ['', '', '', '', '', ''], ['', '', '', '', '', ''], ['', '', '', '', '', ''], ['', '', '', '', '', ''], ['', '', '', '', '', ''], ['', '', '', '', '', ''], ['', '', '', '', '', ''], ['', '', '', '', '', ''], ['', '', '', '', '', ''], ['', '', '', '', '', ''], ['', '', '', '', '', ''], ['', '', '', '', '', ''], ['', '', '', '', '', ''], ['', '', '', '', '', ''], ['', '', '', '', '', ''], ['', '', '', '', '', ''], ['', '', '', '', '', ''], ['', '', '', '', '', ''], ['', '', '', '', '', ''], ['', '', '', '', '', ''], ['', '', '', '', '', ''], ['', '', '', '', '', ''], ['', '', '', '', '', ''], ['', '', '', '', '', ''], ['', '', '', '', '', ''], ['', '', '', '', '', ''], ['', '', '', '', '', ''], ['', '', '', '', '', ''], ['', '', '', '', '', ''], ['', '', '', '', '', ''], ['', '', '', '', '', ''], ['', '', '', '', '', ''], ['', '', '', '', '', ''], ['', '', '', '', '', ''], ['', '', '', '', '', ''], ['', '', '', '', '', ''], ['', '', '', '', '', ''], ['', '', '', '', '', ''], ['', '', '', '', '', ''], ['', '', '', '', '', ''], ['', '', '', '', '', ''], ['', '', '', '', '', ''], ['', '', '', '', '', ''], ['', '', '', '', '', ''], ['', '', '', '', '', ''], ['', '', '', '', '', ''], ['', '', '', '', '', ''], ['', '', '', '', '', ''], ['', '', '', '', '', ''], ['', '', '', '', '', ''], ['', '', '', '', '', ''], ['', '', '', '', '141', '211'], ['', '', '', '', '3', '4'], ['', '', '', '', '5', '6']]\n",
            "[[141, 211], [3, 4], [5, 6]]\n",
            "E59\n",
            "[['141', '2', '', '', '', ''], ['3', '4', '', '', '', ''], ['5', '6', '', '', '', ''], ['', '', '', '', '', ''], ['', '', '141', '211', '', ''], ['', '', '3', '4', '', ''], ['', '', '5', '6', '', ''], ['', '', '', '', '', ''], ['', '', '', '', '', ''], ['', '', '', '', '', ''], ['', '', '', '', '', ''], ['', '', '', '', '', ''], ['', '', '', '', '', ''], ['', '', '', '', '', ''], ['', '', '', '', '', ''], ['', '', '', '', '', ''], ['', '', '', '', '', ''], ['', '', '', '', '', ''], ['', '', '', '', '', ''], ['', '', '', '', '', ''], ['', '', '', '', '', ''], ['', '', '', '', '', ''], ['', '', '', '', '', ''], ['', '', '', '', '', ''], ['', '', '', '', '', ''], ['', '', '', '', '', ''], ['', '', '', '', '', ''], ['', '', '', '', '', ''], ['', '', '', '', '', ''], ['', '', '', '', '', ''], ['', '', '', '', '', ''], ['', '', '', '', '', ''], ['', '', '', '', '', ''], ['', '', '', '', '', ''], ['', '', '', '', '', ''], ['', '', '', '', '', ''], ['', '', '', '', '', ''], ['', '', '', '', '', ''], ['', '', '', '', '', ''], ['', '', '', '', '', ''], ['', '', '', '', '', ''], ['', '', '', '', '', ''], ['', '', '', '', '', ''], ['', '', '', '', '', ''], ['', '', '', '', '', ''], ['', '', '', '', '', ''], ['', '', '', '', '', ''], ['', '', '', '', '', ''], ['', '', '', '', '', ''], ['', '', '', '', '', ''], ['', '', '', '', '', ''], ['', '', '', '', '', ''], ['', '', '', '', '', ''], ['', '', '', '', '', ''], ['', '', '', '', '', ''], ['', '', '', '', '', ''], ['', '', '', '', '', ''], ['', '', '', '', '', ''], ['', '', '', '', '141', '211'], ['', '', '', '', '3', '4'], ['', '', '', '', '5', '6']]\n",
            "total 1\n",
            "-rw------- 1 root 151 Mar  3 21:42 test_01.gsheet\n",
            "Wed Mar  3 21:42:31 MSK 2021\n"
          ],
          "name": "stdout"
        }
      ]
    },
    {
      "cell_type": "code",
      "metadata": {
        "colab": {
          "base_uri": "https://localhost:8080/",
          "height": 0
        },
        "id": "Jrmmq02Hph1X",
        "outputId": "2daa2b79-2cac-4988-aa46-0587c9a45ce6"
      },
      "source": [
        "import os\r\n",
        "import time\r\n",
        "print('\\nРаботаем с таблицей strengths')\r\n",
        "%ll -lAF /content/drive/MyDrive/\"Colab Notebooks\"/table_test/\r\n",
        "try:\r\n",
        "  os.stat('/content/drive/MyDrive/Colab Notebooks/table_test/strengths.gsheet')\r\n",
        "  table = gs.open_by_key('1YV3pABMmd-9q_xRLk_dngEt2BLCUh09bQTao6IEUP5w')\r\n",
        "except Exception as mistake:\r\n",
        "    print('\\n',mistake)\r\n",
        "    print(\"Необходимо создать таблицу\\n\")\r\n",
        "    #%rm -r /content/drive/MyDrive/table_01.gsheet1\r\n",
        "    %ll -lAF /content/drive/MyDrive/\r\n",
        "    gs_01 = gs.create('strengths')\r\n",
        "    time.sleep(30)\r\n",
        "    %ll -lAF /content/drive/MyDrive/\r\n",
        "    print(gs_01)\r\n",
        "    print (gs_01.id)\r\n",
        "    print(dir(gs_01))\r\n",
        "    %ll -lAF /content/drive/MyDrive/\"Colab Notebooks\"/table_test\r\n",
        "    %mv  /content/drive/MyDrive/table_01.gsheet /content/drive/MyDrive/\"Colab Notebooks\"/table_test/\r\n",
        "    %ll -lAF /content/drive/MyDrive/\"Colab Notebooks\"/table_test/\r\n",
        "print(dir(table))"
      ],
      "execution_count": 13,
      "outputs": [
        {
          "output_type": "stream",
          "text": [
            "\n",
            "Работаем с таблицей strengths\n",
            "total 3\n",
            "-rw------- 1 root 151 Mar  3 22:38 opportunities.gsheet\n",
            "-rw------- 1 root 151 Mar  3 22:52 result.gsheet\n",
            "-rw------- 1 root 151 Mar  3 22:29 strengths.gsheet\n",
            "-rw------- 1 root 151 Mar  3 21:42 test_01.gsheet\n",
            "-rw------- 1 root 151 Mar  3 22:47 threats.gsheet\n",
            "-rw------- 1 root 151 Mar  3 22:16 weaknesses.gsheet\n",
            "['__class__', '__delattr__', '__dict__', '__dir__', '__doc__', '__eq__', '__format__', '__ge__', '__getattribute__', '__gt__', '__hash__', '__init__', '__init_subclass__', '__iter__', '__le__', '__lt__', '__module__', '__ne__', '__new__', '__reduce__', '__reduce_ex__', '__repr__', '__setattr__', '__sizeof__', '__str__', '__subclasshook__', '__weakref__', '_properties', '_spreadsheets_get', '_spreadsheets_sheets_copy_to', 'add_worksheet', 'batch_update', 'client', 'del_worksheet', 'duplicate_sheet', 'fetch_sheet_metadata', 'get_worksheet', 'id', 'list_permissions', 'remove_permissions', 'reorder_worksheets', 'share', 'sheet1', 'title', 'updated', 'url', 'values_append', 'values_batch_get', 'values_batch_update', 'values_clear', 'values_get', 'values_update', 'worksheet', 'worksheets']\n"
          ],
          "name": "stdout"
        }
      ]
    },
    {
      "cell_type": "code",
      "metadata": {
        "colab": {
          "base_uri": "https://localhost:8080/",
          "height": 845
        },
        "id": "31KK38VrqAFY",
        "outputId": "3e89ab19-a909-4e69-d2bd-62a083b28096"
      },
      "source": [
        "import matplotlib\r\n",
        "import matplotlib.pyplot as plt\r\n",
        "import numpy as np\r\n",
        "print('\\nРаботаем с листом')\r\n",
        "print(table.worksheets())\r\n",
        "#worksheet = table.worksheet('Лист1')\r\n",
        "#table.del_worksheet(worksheet)\r\n",
        "try:\r\n",
        "  worksheet = table.worksheet('Лист1')\r\n",
        "except Exception as mistake:\r\n",
        "    print('\\n',mistake)\r\n",
        "    print(\"Необходимо создать лист\\n\")\r\n",
        "    worksheet = table.add_worksheet(\"list1\",100,100)\r\n",
        "print(table.worksheets())\r\n",
        "print(dir(worksheet))\r\n",
        "rows = worksheet.get_all_values()\r\n",
        "print(rows)\r\n",
        "value_sh = [[input()]]\r\n",
        "print(value_sh)\r\n",
        "cell_list = 'A6'\r\n",
        "print(cell_list)\r\n",
        "worksheet.update(cell_list, value_sh)\r\n",
        "print(worksheet.get_all_values())\r\n",
        "\r\n",
        "value_sh = [[input()]]\r\n",
        "print(value_sh)\r\n",
        "cell_list = 'B6'\r\n",
        "print(cell_list)\r\n",
        "worksheet.update(cell_list, value_sh)\r\n",
        "print(worksheet.get_all_values())\r\n",
        "\r\n",
        "value_sh = [[input()]]\r\n",
        "print(value_sh)\r\n",
        "cell_list = 'C6'\r\n",
        "print(cell_list)\r\n",
        "worksheet.update(cell_list, value_sh)\r\n",
        "print(worksheet.get_all_values())\r\n",
        "\r\n",
        "value_sh = [[input()]]\r\n",
        "print(value_sh)\r\n",
        "cell_list = 'D6'\r\n",
        "print(cell_list)\r\n",
        "worksheet.update(cell_list, value_sh)\r\n",
        "print(worksheet.get_all_values())\r\n",
        "\r\n",
        "time.sleep(30)\r\n",
        "%ll -lAF /content/drive/MyDrive/\"Colab Notebooks\"/table_test/\r\n",
        "os.listdir('/content/drive/MyDrive/Colab Notebooks/table_test/')\r\n",
        "!date\r\n",
        "\r\n",
        "labels = ['A2','A3','A4','A5']\r\n",
        "importance = [7, 8, 5, 6]\r\n",
        "probability = [0.5, 0.7, 0.9, 0.6]\r\n",
        "\r\n",
        "x = np.arange(len(labels))  # the label locations\r\n",
        "width = 0.35  # the width of the bars\r\n",
        "\r\n",
        "fig, ax = plt.subplots()\r\n",
        "rects1 = ax.bar(x - width/2, importance, width, label='importance')\r\n",
        "rects2 = ax.bar(x + width/2, probability, width, label='probability')\r\n",
        "\r\n",
        "# Add some text for labels, title and custom x-axis tick labels, etc.\r\n",
        "ax.set_ylabel('Значения')\r\n",
        "ax.set_title('Strengths')\r\n",
        "ax.set_xticks(x)\r\n",
        "ax.set_xticklabels(labels)\r\n",
        "ax.legend()\r\n",
        "\r\n",
        "\r\n",
        "def autolabel(rects):\r\n",
        "    \"\"\"Attach a text label above each bar in *rects*, displaying its height.\"\"\"\r\n",
        "    for rect in rects:\r\n",
        "        height = rect.get_height()\r\n",
        "        ax.annotate('{}'.format(height),\r\n",
        "                    xy=(rect.get_x() + rect.get_width() / 2, height),\r\n",
        "                    xytext=(0, 3),  # 3 points vertical offset\r\n",
        "                    textcoords=\"offset points\",\r\n",
        "                    ha='center', va='bottom')\r\n",
        "\r\n",
        "\r\n",
        "autolabel(rects1)\r\n",
        "autolabel(rects2)\r\n",
        "\r\n",
        "fig.tight_layout()\r\n",
        "\r\n",
        "plt.show()\r\n"
      ],
      "execution_count": 21,
      "outputs": [
        {
          "output_type": "stream",
          "text": [
            "\n",
            "Работаем с листом\n",
            "[<Worksheet 'Лист1' id:0>, <Worksheet 'list1' id:834532665>]\n",
            "[<Worksheet 'Лист1' id:0>, <Worksheet 'list1' id:834532665>]\n",
            "['__class__', '__delattr__', '__dict__', '__dir__', '__doc__', '__eq__', '__format__', '__ge__', '__getattribute__', '__gt__', '__hash__', '__init__', '__init_subclass__', '__le__', '__lt__', '__module__', '__ne__', '__new__', '__reduce__', '__reduce_ex__', '__repr__', '__setattr__', '__sizeof__', '__str__', '__subclasshook__', '__weakref__', '_finder', '_list_cells', '_properties', 'acell', 'add_cols', 'add_protected_range', 'add_rows', 'append_row', 'append_rows', 'batch_get', 'batch_update', 'cell', 'clear', 'clear_basic_filter', 'clear_note', 'client', 'col_count', 'col_values', 'copy_to', 'delete_columns', 'delete_dimension', 'delete_row', 'delete_rows', 'duplicate', 'export', 'find', 'findall', 'format', 'freeze', 'frozen_col_count', 'frozen_row_count', 'get', 'get_all_records', 'get_all_values', 'id', 'insert_cols', 'insert_note', 'insert_row', 'insert_rows', 'merge_cells', 'range', 'resize', 'row_count', 'row_values', 'set_basic_filter', 'sort', 'spreadsheet', 'title', 'update', 'update_acell', 'update_cell', 'update_cells', 'update_index', 'update_note', 'update_title', 'updated', 'url']\n",
            "[['name', 'action', 'importance', 'probability', 'power'], ['Опытный персонал', 'Весь персонал имеет опыт работы более 1 года', '7', '0,5', '3,5'], ['Профессиональная технология изготовления блюд', 'Использование проф. оборудования', '8', '0,7', '5,6'], ['Уникальные блюда', 'Повар готовит \"еженедельное уникальное блюдо\"', '5', '0,9', '4,5'], ['Выгодное месторасположение', 'Кафе находится в центре города', '6', '0,6', '3,6'], ['3', '4', '5', '6', '']]\n",
            "1\n",
            "[['1']]\n",
            "A6\n",
            "[['name', 'action', 'importance', 'probability', 'power'], ['Опытный персонал', 'Весь персонал имеет опыт работы более 1 года', '7', '0,5', '3,5'], ['Профессиональная технология изготовления блюд', 'Использование проф. оборудования', '8', '0,7', '5,6'], ['Уникальные блюда', 'Повар готовит \"еженедельное уникальное блюдо\"', '5', '0,9', '4,5'], ['Выгодное месторасположение', 'Кафе находится в центре города', '6', '0,6', '3,6'], ['1', '4', '5', '6', '']]\n",
            "2\n",
            "[['2']]\n",
            "B6\n",
            "[['name', 'action', 'importance', 'probability', 'power'], ['Опытный персонал', 'Весь персонал имеет опыт работы более 1 года', '7', '0,5', '3,5'], ['Профессиональная технология изготовления блюд', 'Использование проф. оборудования', '8', '0,7', '5,6'], ['Уникальные блюда', 'Повар готовит \"еженедельное уникальное блюдо\"', '5', '0,9', '4,5'], ['Выгодное месторасположение', 'Кафе находится в центре города', '6', '0,6', '3,6'], ['1', '2', '5', '6', '']]\n",
            "3\n",
            "[['3']]\n",
            "C6\n",
            "[['name', 'action', 'importance', 'probability', 'power'], ['Опытный персонал', 'Весь персонал имеет опыт работы более 1 года', '7', '0,5', '3,5'], ['Профессиональная технология изготовления блюд', 'Использование проф. оборудования', '8', '0,7', '5,6'], ['Уникальные блюда', 'Повар готовит \"еженедельное уникальное блюдо\"', '5', '0,9', '4,5'], ['Выгодное месторасположение', 'Кафе находится в центре города', '6', '0,6', '3,6'], ['1', '2', '3', '6', '']]\n",
            "4\n",
            "[['4']]\n",
            "D6\n",
            "[['name', 'action', 'importance', 'probability', 'power'], ['Опытный персонал', 'Весь персонал имеет опыт работы более 1 года', '7', '0,5', '3,5'], ['Профессиональная технология изготовления блюд', 'Использование проф. оборудования', '8', '0,7', '5,6'], ['Уникальные блюда', 'Повар готовит \"еженедельное уникальное блюдо\"', '5', '0,9', '4,5'], ['Выгодное месторасположение', 'Кафе находится в центре города', '6', '0,6', '3,6'], ['1', '2', '3', '4', '']]\n",
            "total 3\n",
            "-rw------- 1 root 151 Mar  3 22:38 opportunities.gsheet\n",
            "-rw------- 1 root 151 Mar  3 22:52 result.gsheet\n",
            "-rw------- 1 root 151 Mar  3 23:26 strengths.gsheet\n",
            "-rw------- 1 root 151 Mar  3 21:42 test_01.gsheet\n",
            "-rw------- 1 root 151 Mar  3 22:47 threats.gsheet\n",
            "-rw------- 1 root 151 Mar  3 22:16 weaknesses.gsheet\n",
            "Wed Mar  3 23:27:11 MSK 2021\n"
          ],
          "name": "stdout"
        },
        {
          "output_type": "display_data",
          "data": {
            "image/png": "[encoded data removed]",
            "text/plain": [
              "<Figure size 432x288 with 1 Axes>"
            ]
          },
          "metadata": {
            "tags": [],
            "needs_background": "light"
          }
        }
      ]
    },
    {
      "cell_type": "code",
      "metadata": {
        "colab": {
          "base_uri": "https://localhost:8080/",
          "height": 0
        },
        "id": "iLG7mnEJxiG_",
        "outputId": "593a5dde-bf68-4ed3-dc46-046cb5e29d44"
      },
      "source": [
        "import os\r\n",
        "import time\r\n",
        "print('\\nРаботаем с таблицей weaknesses')\r\n",
        "%ll -lAF /content/drive/MyDrive/\"Colab Notebooks\"/table_test/\r\n",
        "try:\r\n",
        "  os.stat('/content/drive/MyDrive/Colab Notebooks/table_test/weaknesses.gsheet')\r\n",
        "  table = gs.open_by_key('1tvnvaaGdSAXWuYMIXE8mICYyUeAJNYZzWTxwEctURng')\r\n",
        "except Exception as mistake:\r\n",
        "    print('\\n',mistake)\r\n",
        "    print(\"Необходимо создать таблицу\\n\")\r\n",
        "    #%rm -r /content/drive/MyDrive/table_01.gsheet1\r\n",
        "    %ll -lAF /content/drive/MyDrive/\r\n",
        "    gs_01 = gs.create('weaknesses')\r\n",
        "    time.sleep(30)\r\n",
        "    %ll -lAF /content/drive/MyDrive/\r\n",
        "    print(gs_01)\r\n",
        "    print (gs_01.id)\r\n",
        "    print(dir(gs_01))\r\n",
        "    %ll -lAF /content/drive/MyDrive/\"Colab Notebooks\"/table_test\r\n",
        "    %mv  /content/drive/MyDrive/table_01.gsheet /content/drive/MyDrive/\"Colab Notebooks\"/table_test/\r\n",
        "    %ll -lAF /content/drive/MyDrive/\"Colab Notebooks\"/table_test/\r\n",
        "print(dir(table))"
      ],
      "execution_count": 22,
      "outputs": [
        {
          "output_type": "stream",
          "text": [
            "\n",
            "Работаем с таблицей weaknesses\n",
            "total 3\n",
            "-rw------- 1 root 151 Mar  3 22:38 opportunities.gsheet\n",
            "-rw------- 1 root 151 Mar  3 22:52 result.gsheet\n",
            "-rw------- 1 root 151 Mar  3 23:26 strengths.gsheet\n",
            "-rw------- 1 root 151 Mar  3 21:42 test_01.gsheet\n",
            "-rw------- 1 root 151 Mar  3 22:47 threats.gsheet\n",
            "-rw------- 1 root 151 Mar  3 22:16 weaknesses.gsheet\n",
            "['__class__', '__delattr__', '__dict__', '__dir__', '__doc__', '__eq__', '__format__', '__ge__', '__getattribute__', '__gt__', '__hash__', '__init__', '__init_subclass__', '__iter__', '__le__', '__lt__', '__module__', '__ne__', '__new__', '__reduce__', '__reduce_ex__', '__repr__', '__setattr__', '__sizeof__', '__str__', '__subclasshook__', '__weakref__', '_properties', '_spreadsheets_get', '_spreadsheets_sheets_copy_to', 'add_worksheet', 'batch_update', 'client', 'del_worksheet', 'duplicate_sheet', 'fetch_sheet_metadata', 'get_worksheet', 'id', 'list_permissions', 'remove_permissions', 'reorder_worksheets', 'share', 'sheet1', 'title', 'updated', 'url', 'values_append', 'values_batch_get', 'values_batch_update', 'values_clear', 'values_get', 'values_update', 'worksheet', 'worksheets']\n"
          ],
          "name": "stdout"
        }
      ]
    },
    {
      "cell_type": "code",
      "metadata": {
        "colab": {
          "base_uri": "https://localhost:8080/",
          "height": 845
        },
        "id": "gmhJEcMyx9RR",
        "outputId": "36dde086-cbd8-40a9-cdd9-86efec14b1c7"
      },
      "source": [
        "import matplotlib\r\n",
        "import matplotlib.pyplot as plt\r\n",
        "import numpy as np\r\n",
        "print('\\nРаботаем с листом')\r\n",
        "print(table.worksheets())\r\n",
        "#worksheet = table.worksheet('Лист1')\r\n",
        "#table.del_worksheet(worksheet)\r\n",
        "try:\r\n",
        "  worksheet = table.worksheet('Лист1')\r\n",
        "except Exception as mistake:\r\n",
        "    print('\\n',mistake)\r\n",
        "    print(\"Необходимо создать лист\\n\")\r\n",
        "    worksheet = table.add_worksheet(\"list1\",100,100)\r\n",
        "print(table.worksheets())\r\n",
        "print(dir(worksheet))\r\n",
        "rows = worksheet.get_all_values()\r\n",
        "print(rows)\r\n",
        "value_sh = [[input()]]\r\n",
        "print(value_sh)\r\n",
        "cell_list = 'A6'\r\n",
        "print(cell_list)\r\n",
        "worksheet.update(cell_list, value_sh)\r\n",
        "print(worksheet.get_all_values())\r\n",
        "\r\n",
        "value_sh = [[input()]]\r\n",
        "print(value_sh)\r\n",
        "cell_list = 'B6'\r\n",
        "print(cell_list)\r\n",
        "worksheet.update(cell_list, value_sh)\r\n",
        "print(worksheet.get_all_values())\r\n",
        "\r\n",
        "value_sh = [[input()]]\r\n",
        "print(value_sh)\r\n",
        "cell_list = 'C6'\r\n",
        "print(cell_list)\r\n",
        "worksheet.update(cell_list, value_sh)\r\n",
        "print(worksheet.get_all_values())\r\n",
        "\r\n",
        "value_sh = [[input()]]\r\n",
        "print(value_sh)\r\n",
        "cell_list = 'D6'\r\n",
        "print(cell_list)\r\n",
        "worksheet.update(cell_list, value_sh)\r\n",
        "print(worksheet.get_all_values())\r\n",
        "\r\n",
        "time.sleep(30)\r\n",
        "%ll -lAF /content/drive/MyDrive/\"Colab Notebooks\"/table_test/\r\n",
        "os.listdir('/content/drive/MyDrive/Colab Notebooks/table_test/')\r\n",
        "!date\r\n",
        "\r\n",
        "labels = ['A2','A3','A4','A5']\r\n",
        "importance = [8, 5, 6, 8]\r\n",
        "probability = [0.9, 0.6, 0.9, 0.7]\r\n",
        "\r\n",
        "x = np.arange(len(labels))  # the label locations\r\n",
        "width = 0.35  # the width of the bars\r\n",
        "\r\n",
        "fig, ax = plt.subplots()\r\n",
        "rects1 = ax.bar(x - width/2, importance, width, label='importance')\r\n",
        "rects2 = ax.bar(x + width/2, probability, width, label='probability')\r\n",
        "\r\n",
        "# Add some text for labels, title and custom x-axis tick labels, etc.\r\n",
        "ax.set_ylabel('Значения')\r\n",
        "ax.set_title('Weaknesses')\r\n",
        "ax.set_xticks(x)\r\n",
        "ax.set_xticklabels(labels)\r\n",
        "ax.legend()\r\n",
        "\r\n",
        "\r\n",
        "def autolabel(rects):\r\n",
        "    \"\"\"Attach a text label above each bar in *rects*, displaying its height.\"\"\"\r\n",
        "    for rect in rects:\r\n",
        "        height = rect.get_height()\r\n",
        "        ax.annotate('{}'.format(height),\r\n",
        "                    xy=(rect.get_x() + rect.get_width() / 2, height),\r\n",
        "                    xytext=(0, 3),  # 3 points vertical offset\r\n",
        "                    textcoords=\"offset points\",\r\n",
        "                    ha='center', va='bottom')\r\n",
        "\r\n",
        "\r\n",
        "autolabel(rects1)\r\n",
        "autolabel(rects2)\r\n",
        "\r\n",
        "fig.tight_layout()\r\n",
        "\r\n",
        "plt.show()"
      ],
      "execution_count": 23,
      "outputs": [
        {
          "output_type": "stream",
          "text": [
            "\n",
            "Работаем с листом\n",
            "[<Worksheet 'Лист1' id:0>]\n",
            "[<Worksheet 'Лист1' id:0>]\n",
            "['__class__', '__delattr__', '__dict__', '__dir__', '__doc__', '__eq__', '__format__', '__ge__', '__getattribute__', '__gt__', '__hash__', '__init__', '__init_subclass__', '__le__', '__lt__', '__module__', '__ne__', '__new__', '__reduce__', '__reduce_ex__', '__repr__', '__setattr__', '__sizeof__', '__str__', '__subclasshook__', '__weakref__', '_finder', '_list_cells', '_properties', 'acell', 'add_cols', 'add_protected_range', 'add_rows', 'append_row', 'append_rows', 'batch_get', 'batch_update', 'cell', 'clear', 'clear_basic_filter', 'clear_note', 'client', 'col_count', 'col_values', 'copy_to', 'delete_columns', 'delete_dimension', 'delete_row', 'delete_rows', 'duplicate', 'export', 'find', 'findall', 'format', 'freeze', 'frozen_col_count', 'frozen_row_count', 'get', 'get_all_records', 'get_all_values', 'id', 'insert_cols', 'insert_note', 'insert_row', 'insert_rows', 'merge_cells', 'range', 'resize', 'row_count', 'row_values', 'set_basic_filter', 'sort', 'spreadsheet', 'title', 'update', 'update_acell', 'update_cell', 'update_cells', 'update_index', 'update_note', 'update_title', 'updated', 'url']\n",
            "[['name', 'actions', 'importance', 'probability', 'power'], ['Нехватка денежных средств', 'Получение кредита', '8', '0,9', '7,2'], ['Маленькое помещение', 'Расширить помещение, переехать в новое ', '5', '0,6', '3'], ['Неизвестность кафе', 'Реклама', '6', '0,9', '5,4'], ['Наличие большого кол-ва кафе с такой же направленностью ', 'Сделать уникальное меню или дизайн кафе', '8', '0,7', '5,6']]\n",
            "1\n",
            "[['1']]\n",
            "A6\n",
            "[['name', 'actions', 'importance', 'probability', 'power'], ['Нехватка денежных средств', 'Получение кредита', '8', '0,9', '7,2'], ['Маленькое помещение', 'Расширить помещение, переехать в новое ', '5', '0,6', '3'], ['Неизвестность кафе', 'Реклама', '6', '0,9', '5,4'], ['Наличие большого кол-ва кафе с такой же направленностью ', 'Сделать уникальное меню или дизайн кафе', '8', '0,7', '5,6'], ['1', '', '', '', '']]\n",
            "2\n",
            "[['2']]\n",
            "B6\n",
            "[['name', 'actions', 'importance', 'probability', 'power'], ['Нехватка денежных средств', 'Получение кредита', '8', '0,9', '7,2'], ['Маленькое помещение', 'Расширить помещение, переехать в новое ', '5', '0,6', '3'], ['Неизвестность кафе', 'Реклама', '6', '0,9', '5,4'], ['Наличие большого кол-ва кафе с такой же направленностью ', 'Сделать уникальное меню или дизайн кафе', '8', '0,7', '5,6'], ['1', '2', '', '', '']]\n",
            "3\n",
            "[['3']]\n",
            "C6\n",
            "[['name', 'actions', 'importance', 'probability', 'power'], ['Нехватка денежных средств', 'Получение кредита', '8', '0,9', '7,2'], ['Маленькое помещение', 'Расширить помещение, переехать в новое ', '5', '0,6', '3'], ['Неизвестность кафе', 'Реклама', '6', '0,9', '5,4'], ['Наличие большого кол-ва кафе с такой же направленностью ', 'Сделать уникальное меню или дизайн кафе', '8', '0,7', '5,6'], ['1', '2', '3', '', '']]\n",
            "4\n",
            "[['4']]\n",
            "D6\n",
            "[['name', 'actions', 'importance', 'probability', 'power'], ['Нехватка денежных средств', 'Получение кредита', '8', '0,9', '7,2'], ['Маленькое помещение', 'Расширить помещение, переехать в новое ', '5', '0,6', '3'], ['Неизвестность кафе', 'Реклама', '6', '0,9', '5,4'], ['Наличие большого кол-ва кафе с такой же направленностью ', 'Сделать уникальное меню или дизайн кафе', '8', '0,7', '5,6'], ['1', '2', '3', '4', '']]\n",
            "total 3\n",
            "-rw------- 1 root 151 Mar  3 22:38 opportunities.gsheet\n",
            "-rw------- 1 root 151 Mar  3 22:52 result.gsheet\n",
            "-rw------- 1 root 151 Mar  3 23:26 strengths.gsheet\n",
            "-rw------- 1 root 151 Mar  3 21:42 test_01.gsheet\n",
            "-rw------- 1 root 151 Mar  3 22:47 threats.gsheet\n",
            "-rw------- 1 root 151 Mar  3 23:31 weaknesses.gsheet\n",
            "Wed Mar  3 23:32:11 MSK 2021\n"
          ],
          "name": "stdout"
        },
        {
          "output_type": "display_data",
          "data": {
            "image/png": "[encoded data removed]",
            "text/plain": [
              "<Figure size 432x288 with 1 Axes>"
            ]
          },
          "metadata": {
            "tags": [],
            "needs_background": "light"
          }
        }
      ]
    },
    {
      "cell_type": "code",
      "metadata": {
        "colab": {
          "base_uri": "https://localhost:8080/",
          "height": 0
        },
        "id": "sfySXmhbynMc",
        "outputId": "d8a82d28-39d6-4466-95a1-bd464ed62108"
      },
      "source": [
        "import os\r\n",
        "import time\r\n",
        "print('\\nРаботаем с таблицей opportunities')\r\n",
        "%ll -lAF /content/drive/MyDrive/\"Colab Notebooks\"/table_test/\r\n",
        "try:\r\n",
        "  os.stat('/content/drive/MyDrive/Colab Notebooks/table_test/opportunities.gsheet')\r\n",
        "  table = gs.open_by_key('1cu_7zwa4zYyUR0M7d-HPKT5-ye4RUXzbfluHFLWk_2E')\r\n",
        "except Exception as mistake:\r\n",
        "    print('\\n',mistake)\r\n",
        "    print(\"Необходимо создать таблицу\\n\")\r\n",
        "    #%rm -r /content/drive/MyDrive/table_01.gsheet1\r\n",
        "    %ll -lAF /content/drive/MyDrive/\r\n",
        "    gs_01 = gs.create('opportunities')\r\n",
        "    time.sleep(30)\r\n",
        "    %ll -lAF /content/drive/MyDrive/\r\n",
        "    print(gs_01)\r\n",
        "    print (gs_01.id)\r\n",
        "    print(dir(gs_01))\r\n",
        "    %ll -lAF /content/drive/MyDrive/\"Colab Notebooks\"/table_test\r\n",
        "    %mv  /content/drive/MyDrive/table_01.gsheet /content/drive/MyDrive/\"Colab Notebooks\"/table_test/\r\n",
        "    %ll -lAF /content/drive/MyDrive/\"Colab Notebooks\"/table_test/\r\n",
        "print(dir(table))"
      ],
      "execution_count": 24,
      "outputs": [
        {
          "output_type": "stream",
          "text": [
            "\n",
            "Работаем с таблицей opportunities\n",
            "total 3\n",
            "-rw------- 1 root 151 Mar  3 22:38 opportunities.gsheet\n",
            "-rw------- 1 root 151 Mar  3 22:52 result.gsheet\n",
            "-rw------- 1 root 151 Mar  3 23:26 strengths.gsheet\n",
            "-rw------- 1 root 151 Mar  3 21:42 test_01.gsheet\n",
            "-rw------- 1 root 151 Mar  3 22:47 threats.gsheet\n",
            "-rw------- 1 root 151 Mar  3 23:31 weaknesses.gsheet\n",
            "['__class__', '__delattr__', '__dict__', '__dir__', '__doc__', '__eq__', '__format__', '__ge__', '__getattribute__', '__gt__', '__hash__', '__init__', '__init_subclass__', '__iter__', '__le__', '__lt__', '__module__', '__ne__', '__new__', '__reduce__', '__reduce_ex__', '__repr__', '__setattr__', '__sizeof__', '__str__', '__subclasshook__', '__weakref__', '_properties', '_spreadsheets_get', '_spreadsheets_sheets_copy_to', 'add_worksheet', 'batch_update', 'client', 'del_worksheet', 'duplicate_sheet', 'fetch_sheet_metadata', 'get_worksheet', 'id', 'list_permissions', 'remove_permissions', 'reorder_worksheets', 'share', 'sheet1', 'title', 'updated', 'url', 'values_append', 'values_batch_get', 'values_batch_update', 'values_clear', 'values_get', 'values_update', 'worksheet', 'worksheets']\n"
          ],
          "name": "stdout"
        }
      ]
    },
    {
      "cell_type": "code",
      "metadata": {
        "colab": {
          "base_uri": "https://localhost:8080/",
          "height": 845
        },
        "id": "_c9kiUFbywk3",
        "outputId": "6d9fae46-1003-410f-e266-e9352f2bbfaa"
      },
      "source": [
        "import matplotlib\r\n",
        "import matplotlib.pyplot as plt\r\n",
        "import numpy as np\r\n",
        "print('\\nРаботаем с листом')\r\n",
        "print(table.worksheets())\r\n",
        "#worksheet = table.worksheet('Лист1')\r\n",
        "#table.del_worksheet(worksheet)\r\n",
        "try:\r\n",
        "  worksheet = table.worksheet('Лист1')\r\n",
        "except Exception as mistake:\r\n",
        "    print('\\n',mistake)\r\n",
        "    print(\"Необходимо создать лист\\n\")\r\n",
        "    worksheet = table.add_worksheet(\"list1\",100,100)\r\n",
        "print(table.worksheets())\r\n",
        "print(dir(worksheet))\r\n",
        "rows = worksheet.get_all_values()\r\n",
        "print(rows)\r\n",
        "value_sh = [[input()]]\r\n",
        "print(value_sh)\r\n",
        "cell_list = 'A6'\r\n",
        "print(cell_list)\r\n",
        "worksheet.update(cell_list, value_sh)\r\n",
        "print(worksheet.get_all_values())\r\n",
        "\r\n",
        "value_sh = [[input()]]\r\n",
        "print(value_sh)\r\n",
        "cell_list = 'B6'\r\n",
        "print(cell_list)\r\n",
        "worksheet.update(cell_list, value_sh)\r\n",
        "print(worksheet.get_all_values())\r\n",
        "\r\n",
        "value_sh = [[input()]]\r\n",
        "print(value_sh)\r\n",
        "cell_list = 'C6'\r\n",
        "print(cell_list)\r\n",
        "worksheet.update(cell_list, value_sh)\r\n",
        "print(worksheet.get_all_values())\r\n",
        "\r\n",
        "value_sh = [[input()]]\r\n",
        "print(value_sh)\r\n",
        "cell_list = 'D6'\r\n",
        "print(cell_list)\r\n",
        "worksheet.update(cell_list, value_sh)\r\n",
        "print(worksheet.get_all_values())\r\n",
        "\r\n",
        "time.sleep(30)\r\n",
        "%ll -lAF /content/drive/MyDrive/\"Colab Notebooks\"/table_test/\r\n",
        "os.listdir('/content/drive/MyDrive/Colab Notebooks/table_test/')\r\n",
        "!date\r\n",
        "\r\n",
        "labels = ['A2','A3','A4','A5']\r\n",
        "importance = [7, 6, 8, 5]\r\n",
        "probability = [0.9, 0.7, 0.8, 0.9]\r\n",
        "\r\n",
        "x = np.arange(len(labels))  # the label locations\r\n",
        "width = 0.35  # the width of the bars\r\n",
        "\r\n",
        "fig, ax = plt.subplots()\r\n",
        "rects1 = ax.bar(x - width/2, importance, width, label='importance')\r\n",
        "rects2 = ax.bar(x + width/2, probability, width, label='probability')\r\n",
        "\r\n",
        "# Add some text for labels, title and custom x-axis tick labels, etc.\r\n",
        "ax.set_ylabel('Значения')\r\n",
        "ax.set_title('Opportunities')\r\n",
        "ax.set_xticks(x)\r\n",
        "ax.set_xticklabels(labels)\r\n",
        "ax.legend()\r\n",
        "\r\n",
        "\r\n",
        "def autolabel(rects):\r\n",
        "    \"\"\"Attach a text label above each bar in *rects*, displaying its height.\"\"\"\r\n",
        "    for rect in rects:\r\n",
        "        height = rect.get_height()\r\n",
        "        ax.annotate('{}'.format(height),\r\n",
        "                    xy=(rect.get_x() + rect.get_width() / 2, height),\r\n",
        "                    xytext=(0, 3),  # 3 points vertical offset\r\n",
        "                    textcoords=\"offset points\",\r\n",
        "                    ha='center', va='bottom')\r\n",
        "\r\n",
        "\r\n",
        "autolabel(rects1)\r\n",
        "autolabel(rects2)\r\n",
        "\r\n",
        "fig.tight_layout()\r\n",
        "\r\n",
        "plt.show()"
      ],
      "execution_count": 25,
      "outputs": [
        {
          "output_type": "stream",
          "text": [
            "\n",
            "Работаем с листом\n",
            "[<Worksheet 'Лист1' id:0>]\n",
            "[<Worksheet 'Лист1' id:0>]\n",
            "['__class__', '__delattr__', '__dict__', '__dir__', '__doc__', '__eq__', '__format__', '__ge__', '__getattribute__', '__gt__', '__hash__', '__init__', '__init_subclass__', '__le__', '__lt__', '__module__', '__ne__', '__new__', '__reduce__', '__reduce_ex__', '__repr__', '__setattr__', '__sizeof__', '__str__', '__subclasshook__', '__weakref__', '_finder', '_list_cells', '_properties', 'acell', 'add_cols', 'add_protected_range', 'add_rows', 'append_row', 'append_rows', 'batch_get', 'batch_update', 'cell', 'clear', 'clear_basic_filter', 'clear_note', 'client', 'col_count', 'col_values', 'copy_to', 'delete_columns', 'delete_dimension', 'delete_row', 'delete_rows', 'duplicate', 'export', 'find', 'findall', 'format', 'freeze', 'frozen_col_count', 'frozen_row_count', 'get', 'get_all_records', 'get_all_values', 'id', 'insert_cols', 'insert_note', 'insert_row', 'insert_rows', 'merge_cells', 'range', 'resize', 'row_count', 'row_values', 'set_basic_filter', 'sort', 'spreadsheet', 'title', 'update', 'update_acell', 'update_cell', 'update_cells', 'update_index', 'update_note', 'update_title', 'updated', 'url']\n",
            "[['name', 'actions', 'importance', 'probability', 'power'], ['Спрос на продукцию', 'Реклама с помощью сайтов, баннеров', '7', '0,9', '6,3'], ['Проведение мероприятий', 'Привлечение клиентов', '6', '0,7', '4,2'], ['Разнообразие меню', 'Добавление в меню новых сортов кофе', '8', '0,8', '6,4'], ['Привлечение клиентов', 'Проведение ежемесячных скидок', '5', '0,9', '4,5']]\n",
            "1\n",
            "[['1']]\n",
            "A6\n",
            "[['name', 'actions', 'importance', 'probability', 'power'], ['Спрос на продукцию', 'Реклама с помощью сайтов, баннеров', '7', '0,9', '6,3'], ['Проведение мероприятий', 'Привлечение клиентов', '6', '0,7', '4,2'], ['Разнообразие меню', 'Добавление в меню новых сортов кофе', '8', '0,8', '6,4'], ['Привлечение клиентов', 'Проведение ежемесячных скидок', '5', '0,9', '4,5'], ['1', '', '', '', '']]\n",
            "2\n",
            "[['2']]\n",
            "B6\n",
            "[['name', 'actions', 'importance', 'probability', 'power'], ['Спрос на продукцию', 'Реклама с помощью сайтов, баннеров', '7', '0,9', '6,3'], ['Проведение мероприятий', 'Привлечение клиентов', '6', '0,7', '4,2'], ['Разнообразие меню', 'Добавление в меню новых сортов кофе', '8', '0,8', '6,4'], ['Привлечение клиентов', 'Проведение ежемесячных скидок', '5', '0,9', '4,5'], ['1', '2', '', '', '']]\n",
            "3\n",
            "[['3']]\n",
            "C6\n",
            "[['name', 'actions', 'importance', 'probability', 'power'], ['Спрос на продукцию', 'Реклама с помощью сайтов, баннеров', '7', '0,9', '6,3'], ['Проведение мероприятий', 'Привлечение клиентов', '6', '0,7', '4,2'], ['Разнообразие меню', 'Добавление в меню новых сортов кофе', '8', '0,8', '6,4'], ['Привлечение клиентов', 'Проведение ежемесячных скидок', '5', '0,9', '4,5'], ['1', '2', '3', '', '']]\n",
            "4\n",
            "[['4']]\n",
            "D6\n",
            "[['name', 'actions', 'importance', 'probability', 'power'], ['Спрос на продукцию', 'Реклама с помощью сайтов, баннеров', '7', '0,9', '6,3'], ['Проведение мероприятий', 'Привлечение клиентов', '6', '0,7', '4,2'], ['Разнообразие меню', 'Добавление в меню новых сортов кофе', '8', '0,8', '6,4'], ['Привлечение клиентов', 'Проведение ежемесячных скидок', '5', '0,9', '4,5'], ['1', '2', '3', '4', '']]\n",
            "total 3\n",
            "-rw------- 1 root 151 Mar  3 23:35 opportunities.gsheet\n",
            "-rw------- 1 root 151 Mar  3 22:52 result.gsheet\n",
            "-rw------- 1 root 151 Mar  3 23:26 strengths.gsheet\n",
            "-rw------- 1 root 151 Mar  3 21:42 test_01.gsheet\n",
            "-rw------- 1 root 151 Mar  3 22:47 threats.gsheet\n",
            "-rw------- 1 root 151 Mar  3 23:31 weaknesses.gsheet\n",
            "Wed Mar  3 23:35:36 MSK 2021\n"
          ],
          "name": "stdout"
        },
        {
          "output_type": "display_data",
          "data": {
            "image/png": "[encoded data removed]",
            "text/plain": [
              "<Figure size 432x288 with 1 Axes>"
            ]
          },
          "metadata": {
            "tags": [],
            "needs_background": "light"
          }
        }
      ]
    },
    {
      "cell_type": "code",
      "metadata": {
        "colab": {
          "base_uri": "https://localhost:8080/",
          "height": 0
        },
        "id": "ULPmtdnozS3t",
        "outputId": "1364b17f-deb7-47bc-fb3f-018c22b9cc89"
      },
      "source": [
        "import os\r\n",
        "import time\r\n",
        "print('\\nРаботаем с таблицей threats')\r\n",
        "%ll -lAF /content/drive/MyDrive/\"Colab Notebooks\"/table_test/\r\n",
        "try:\r\n",
        "  os.stat('/content/drive/MyDrive/Colab Notebooks/table_test/threats.gsheet')\r\n",
        "  table = gs.open_by_key('1afaALJP-ME67JeA0BF_qbHwwIYyKho4psM1X2zswc1s')\r\n",
        "except Exception as mistake:\r\n",
        "    print('\\n',mistake)\r\n",
        "    print(\"Необходимо создать таблицу\\n\")\r\n",
        "    #%rm -r /content/drive/MyDrive/table_01.gsheet1\r\n",
        "    %ll -lAF /content/drive/MyDrive/\r\n",
        "    gs_01 = gs.create('threats')\r\n",
        "    time.sleep(30)\r\n",
        "    %ll -lAF /content/drive/MyDrive/\r\n",
        "    print(gs_01)\r\n",
        "    print (gs_01.id)\r\n",
        "    print(dir(gs_01))\r\n",
        "    %ll -lAF /content/drive/MyDrive/\"Colab Notebooks\"/table_test\r\n",
        "    %mv  /content/drive/MyDrive/table_01.gsheet /content/drive/MyDrive/\"Colab Notebooks\"/table_test/\r\n",
        "    %ll -lAF /content/drive/MyDrive/\"Colab Notebooks\"/table_test/\r\n",
        "print(dir(table))"
      ],
      "execution_count": 31,
      "outputs": [
        {
          "output_type": "stream",
          "text": [
            "\n",
            "Работаем с таблицей threats\n",
            "total 3\n",
            "-rw------- 1 root 151 Mar  3 23:35 opportunities.gsheet\n",
            "-rw------- 1 root 151 Mar  3 22:52 result.gsheet\n",
            "-rw------- 1 root 151 Mar  3 23:26 strengths.gsheet\n",
            "-rw------- 1 root 151 Mar  3 21:42 test_01.gsheet\n",
            "-rw------- 1 root 151 Mar  3 23:37 threats.gsheet\n",
            "-rw------- 1 root 151 Mar  3 23:31 weaknesses.gsheet\n",
            "['__class__', '__delattr__', '__dict__', '__dir__', '__doc__', '__eq__', '__format__', '__ge__', '__getattribute__', '__gt__', '__hash__', '__init__', '__init_subclass__', '__iter__', '__le__', '__lt__', '__module__', '__ne__', '__new__', '__reduce__', '__reduce_ex__', '__repr__', '__setattr__', '__sizeof__', '__str__', '__subclasshook__', '__weakref__', '_properties', '_spreadsheets_get', '_spreadsheets_sheets_copy_to', 'add_worksheet', 'batch_update', 'client', 'del_worksheet', 'duplicate_sheet', 'fetch_sheet_metadata', 'get_worksheet', 'id', 'list_permissions', 'remove_permissions', 'reorder_worksheets', 'share', 'sheet1', 'title', 'updated', 'url', 'values_append', 'values_batch_get', 'values_batch_update', 'values_clear', 'values_get', 'values_update', 'worksheet', 'worksheets']\n"
          ],
          "name": "stdout"
        }
      ]
    },
    {
      "cell_type": "code",
      "metadata": {
        "colab": {
          "base_uri": "https://localhost:8080/",
          "height": 845
        },
        "id": "io7rFG1ozTIz",
        "outputId": "6416b8a8-b652-4cb6-8d58-7719d70e1ab5"
      },
      "source": [
        "2"
      ],
      "execution_count": 33,
      "outputs": [
        {
          "output_type": "stream",
          "text": [
            "\n",
            "Работаем с листом\n",
            "[<Worksheet 'Лист1' id:0>]\n",
            "[<Worksheet 'Лист1' id:0>]\n",
            "['__class__', '__delattr__', '__dict__', '__dir__', '__doc__', '__eq__', '__format__', '__ge__', '__getattribute__', '__gt__', '__hash__', '__init__', '__init_subclass__', '__le__', '__lt__', '__module__', '__ne__', '__new__', '__reduce__', '__reduce_ex__', '__repr__', '__setattr__', '__sizeof__', '__str__', '__subclasshook__', '__weakref__', '_finder', '_list_cells', '_properties', 'acell', 'add_cols', 'add_protected_range', 'add_rows', 'append_row', 'append_rows', 'batch_get', 'batch_update', 'cell', 'clear', 'clear_basic_filter', 'clear_note', 'client', 'col_count', 'col_values', 'copy_to', 'delete_columns', 'delete_dimension', 'delete_row', 'delete_rows', 'duplicate', 'export', 'find', 'findall', 'format', 'freeze', 'frozen_col_count', 'frozen_row_count', 'get', 'get_all_records', 'get_all_values', 'id', 'insert_cols', 'insert_note', 'insert_row', 'insert_rows', 'merge_cells', 'range', 'resize', 'row_count', 'row_values', 'set_basic_filter', 'sort', 'spreadsheet', 'title', 'update', 'update_acell', 'update_cell', 'update_cells', 'update_index', 'update_note', 'update_title', 'updated', 'url']\n",
            "[['name', 'actions', 'importance', 'probability', 'power'], ['Появление конкурентов', 'Покупка рекламы, найм пиар-менеджера', '8', '0,7', '5,6'], ['Рыночная власть поставщиков', 'Риск минимальный', '9', '0,1', '0,9'], ['Изменение вкусов и потребностей клиентов', 'Введение еженедельного уникального блюда', '7', '0,4', '2,8'], ['Зависимость от сезона', 'Изменение меню: горячее кофе на холодное', '9', '0,9', '8,1'], ['1', '2', '3', '4', '']]\n",
            "1\n",
            "[['1']]\n",
            "A6\n",
            "[['name', 'actions', 'importance', 'probability', 'power'], ['Появление конкурентов', 'Покупка рекламы, найм пиар-менеджера', '8', '0,7', '5,6'], ['Рыночная власть поставщиков', 'Риск минимальный', '9', '0,1', '0,9'], ['Изменение вкусов и потребностей клиентов', 'Введение еженедельного уникального блюда', '7', '0,4', '2,8'], ['Зависимость от сезона', 'Изменение меню: горячее кофе на холодное', '9', '0,9', '8,1'], ['1', '2', '3', '4', '']]\n",
            "2\n",
            "[['2']]\n",
            "B6\n",
            "[['name', 'actions', 'importance', 'probability', 'power'], ['Появление конкурентов', 'Покупка рекламы, найм пиар-менеджера', '8', '0,7', '5,6'], ['Рыночная власть поставщиков', 'Риск минимальный', '9', '0,1', '0,9'], ['Изменение вкусов и потребностей клиентов', 'Введение еженедельного уникального блюда', '7', '0,4', '2,8'], ['Зависимость от сезона', 'Изменение меню: горячее кофе на холодное', '9', '0,9', '8,1'], ['1', '2', '3', '4', '']]\n",
            "3\n",
            "[['3']]\n",
            "C6\n",
            "[['name', 'actions', 'importance', 'probability', 'power'], ['Появление конкурентов', 'Покупка рекламы, найм пиар-менеджера', '8', '0,7', '5,6'], ['Рыночная власть поставщиков', 'Риск минимальный', '9', '0,1', '0,9'], ['Изменение вкусов и потребностей клиентов', 'Введение еженедельного уникального блюда', '7', '0,4', '2,8'], ['Зависимость от сезона', 'Изменение меню: горячее кофе на холодное', '9', '0,9', '8,1'], ['1', '2', '3', '4', '']]\n",
            "4\n",
            "[['4']]\n",
            "D6\n",
            "[['name', 'actions', 'importance', 'probability', 'power'], ['Появление конкурентов', 'Покупка рекламы, найм пиар-менеджера', '8', '0,7', '5,6'], ['Рыночная власть поставщиков', 'Риск минимальный', '9', '0,1', '0,9'], ['Изменение вкусов и потребностей клиентов', 'Введение еженедельного уникального блюда', '7', '0,4', '2,8'], ['Зависимость от сезона', 'Изменение меню: горячее кофе на холодное', '9', '0,9', '8,1'], ['1', '2', '3', '4', '']]\n",
            "total 3\n",
            "-rw------- 1 root 151 Mar  3 23:35 opportunities.gsheet\n",
            "-rw------- 1 root 151 Mar  3 22:52 result.gsheet\n",
            "-rw------- 1 root 151 Mar  3 23:26 strengths.gsheet\n",
            "-rw------- 1 root 151 Mar  3 21:42 test_01.gsheet\n",
            "-rw------- 1 root 151 Mar  3 23:52 threats.gsheet\n",
            "-rw------- 1 root 151 Mar  3 23:31 weaknesses.gsheet\n",
            "Wed Mar  3 23:53:00 MSK 2021\n"
          ],
          "name": "stdout"
        },
        {
          "output_type": "display_data",
          "data": {
            "image/png": "[encoded data removed]",
            "text/plain": [
              "<Figure size 432x288 with 1 Axes>"
            ]
          },
          "metadata": {
            "tags": [],
            "needs_background": "light"
          }
        }
      ]
    },
    {
      "cell_type": "code",
      "metadata": {
        "colab": {
          "base_uri": "https://localhost:8080/",
          "height": 0
        },
        "id": "TW1UJDs2z7Lg",
        "outputId": "b6b8a77d-a08c-4548-804e-287398131449"
      },
      "source": [
        "import os\r\n",
        "import time\r\n",
        "print('\\nРаботаем с таблицей result')\r\n",
        "%ll -lAF /content/drive/MyDrive/\"Colab Notebooks\"/table_test/\r\n",
        "try:\r\n",
        "  os.stat('/content/drive/MyDrive/Colab Notebooks/table_test/result.gsheet')\r\n",
        "  table = gs.open_by_key('1_C7TaOWn6p414WM5ZBLs5cDsZo3Xvs6R3PCnJxMlrhQ')\r\n",
        "except Exception as mistake:\r\n",
        "    print('\\n',mistake)\r\n",
        "    print(\"Необходимо создать таблицу\\n\")\r\n",
        "    #%rm -r /content/drive/MyDrive/table_01.gsheet1\r\n",
        "    %ll -lAF /content/drive/MyDrive/\r\n",
        "    gs_01 = gs.create('result')\r\n",
        "    time.sleep(30)\r\n",
        "    %ll -lAF /content/drive/MyDrive/\r\n",
        "    print(gs_01)\r\n",
        "    print (gs_01.id)\r\n",
        "    print(dir(gs_01))\r\n",
        "    %ll -lAF /content/drive/MyDrive/\"Colab Notebooks\"/table_test\r\n",
        "    %mv  /content/drive/MyDrive/table_01.gsheet /content/drive/MyDrive/\"Colab Notebooks\"/table_test/\r\n",
        "    %ll -lAF /content/drive/MyDrive/\"Colab Notebooks\"/table_test/\r\n",
        "print(dir(table))"
      ],
      "execution_count": 29,
      "outputs": [
        {
          "output_type": "stream",
          "text": [
            "\n",
            "Работаем с таблицей result\n",
            "total 3\n",
            "-rw------- 1 root 151 Mar  3 23:35 opportunities.gsheet\n",
            "-rw------- 1 root 151 Mar  3 22:52 result.gsheet\n",
            "-rw------- 1 root 151 Mar  3 23:26 strengths.gsheet\n",
            "-rw------- 1 root 151 Mar  3 21:42 test_01.gsheet\n",
            "-rw------- 1 root 151 Mar  3 23:37 threats.gsheet\n",
            "-rw------- 1 root 151 Mar  3 23:31 weaknesses.gsheet\n",
            "['__class__', '__delattr__', '__dict__', '__dir__', '__doc__', '__eq__', '__format__', '__ge__', '__getattribute__', '__gt__', '__hash__', '__init__', '__init_subclass__', '__iter__', '__le__', '__lt__', '__module__', '__ne__', '__new__', '__reduce__', '__reduce_ex__', '__repr__', '__setattr__', '__sizeof__', '__str__', '__subclasshook__', '__weakref__', '_properties', '_spreadsheets_get', '_spreadsheets_sheets_copy_to', 'add_worksheet', 'batch_update', 'client', 'del_worksheet', 'duplicate_sheet', 'fetch_sheet_metadata', 'get_worksheet', 'id', 'list_permissions', 'remove_permissions', 'reorder_worksheets', 'share', 'sheet1', 'title', 'updated', 'url', 'values_append', 'values_batch_get', 'values_batch_update', 'values_clear', 'values_get', 'values_update', 'worksheet', 'worksheets']\n"
          ],
          "name": "stdout"
        }
      ]
    },
    {
      "cell_type": "code",
      "metadata": {
        "colab": {
          "base_uri": "https://localhost:8080/",
          "height": 297
        },
        "id": "nCisKIUX0WLW",
        "outputId": "9ad81799-aad7-49fe-b5b7-adad81ed4d35"
      },
      "source": [
        "import matplotlib\r\n",
        "import matplotlib.pyplot as plt\r\n",
        "import numpy as np\r\n",
        "\r\n",
        "labels = ['A2','A3','A4','A5']\r\n",
        "power = [17.2, 21.2, 21.4, 17.4]\r\n",
        "\r\n",
        "\r\n",
        "x = np.arange(len(labels))  # the label locations\r\n",
        "width = 0.35  # the width of the bars\r\n",
        "\r\n",
        "fig, ax = plt.subplots()\r\n",
        "rects1 = ax.bar(x - width/2, importance, width, label='power')\r\n",
        "\r\n",
        "# Add some text for labels, title and custom x-axis tick labels, etc.\r\n",
        "ax.set_ylabel('Значения')\r\n",
        "ax.set_title('Result')\r\n",
        "ax.set_xticks(x)\r\n",
        "ax.set_xticklabels(labels)\r\n",
        "ax.legend()\r\n",
        "\r\n",
        "\r\n",
        "def autolabel(rects):\r\n",
        "    \"\"\"Attach a text label above each bar in *rects*, displaying its height.\"\"\"\r\n",
        "    for rect in rects:\r\n",
        "        height = rect.get_height()\r\n",
        "        ax.annotate('{}'.format(height),\r\n",
        "                    xy=(rect.get_x() + rect.get_width() / 2, height),\r\n",
        "                    xytext=(0, 3),  # 3 points vertical offset\r\n",
        "                    textcoords=\"offset points\",\r\n",
        "                    ha='center', va='bottom')\r\n",
        "\r\n",
        "\r\n",
        "autolabel(rects1)\r\n",
        "\r\n",
        "\r\n",
        "fig.tight_layout()\r\n",
        "\r\n",
        "plt.show()"
      ],
      "execution_count": 34,
      "outputs": [
        {
          "output_type": "display_data",
          "data": {
            "image/png": "[encoded data removed]",
            "text/plain": [
              "<Figure size 432x288 with 1 Axes>"
            ]
          },
          "metadata": {
            "tags": [],
            "needs_background": "light"
          }
        }
      ]
    },
    {
      "cell_type": "markdown",
      "metadata": {
        "id": "kxVXFahMWmqA"
      },
      "source": [
        "# Новый раздел"
      ]
    }
  ]
}